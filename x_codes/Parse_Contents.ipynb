{
 "cells": [
  {
   "cell_type": "code",
   "execution_count": 1,
   "id": "8e51a287",
   "metadata": {},
   "outputs": [],
   "source": [
    "import os\n",
    "import csv"
   ]
  },
  {
   "cell_type": "code",
   "execution_count": 2,
   "id": "651a2c46",
   "metadata": {},
   "outputs": [],
   "source": [
    "contents_file = \"../x_info/Contents.txt\"\n",
    "\n",
    "contents_dict = {}\n",
    "with open(contents_file, \"r\") as fin:\n",
    "    rfin = csv.reader(fin, delimiter=\",\")\n",
    "    key = \"\"\n",
    "    for row in rfin:\n",
    "        if \"Module\" in row[0]:\n",
    "            os.makedirs(\"../%s\"%row[0], exist_ok=True)\n",
    "            os.chdir(\"../%s\"%row[0])\n",
    "        else:\n",
    "            os.makedirs(row[0], exist_ok=True)"
   ]
  },
  {
   "cell_type": "code",
   "execution_count": null,
   "id": "f5f49cf2",
   "metadata": {},
   "outputs": [],
   "source": []
  }
 ],
 "metadata": {
  "kernelspec": {
   "display_name": "Python 3 (ipykernel)",
   "language": "python",
   "name": "python3"
  },
  "language_info": {
   "codemirror_mode": {
    "name": "ipython",
    "version": 3
   },
   "file_extension": ".py",
   "mimetype": "text/x-python",
   "name": "python",
   "nbconvert_exporter": "python",
   "pygments_lexer": "ipython3",
   "version": "3.11.4"
  }
 },
 "nbformat": 4,
 "nbformat_minor": 5
}
