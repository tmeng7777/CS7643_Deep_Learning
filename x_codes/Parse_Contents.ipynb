{
 "cells": [
  {
   "cell_type": "code",
   "execution_count": 1,
   "id": "8e51a287",
   "metadata": {},
   "outputs": [],
   "source": [
    "import os\n",
    "import csv"
   ]
  },
  {
   "cell_type": "code",
   "execution_count": 2,
   "id": "651a2c46",
   "metadata": {},
   "outputs": [],
   "source": [
    "contents_file = \"../x_info/Contents.txt\"\n",
    "\n",
    "contents_dict = {}\n",
    "with open(contents_file, \"r\") as fin:\n",
    "    rfin = csv.reader(fin, delimiter=\",\")\n",
    "    key = \"\"\n",
    "    for row in rfin:\n",
    "        if \"Module\" in row[0]:\n",
    "            os.makedirs(\"../%s\"%row[0], exist_ok=True)\n",
    "            os.chdir(\"../%s\"%row[0])\n",
    "        else:\n",
    "            os.makedirs(row[0], exist_ok=True)"
   ]
  },
  {
   "cell_type": "code",
   "execution_count": 3,
   "id": "f5f49cf2",
   "metadata": {},
   "outputs": [],
   "source": [
    "contents_file = \"../x_info/Contents.txt\"\n",
    "readme_file = \"../README.md\"\n",
    "\n",
    "# Read original README.md\n",
    "with open(readme_file, \"r\") as fin:\n",
    "    readme_content = fin.read()\n",
    "\n",
    "# Read input\n",
    "with open(contents_file, \"r\") as fin:\n",
    "    contents_content = fin.read()\n",
    "\n",
    "content_dict = {}\n",
    "current_module = \"\"\n",
    "for cont in contents_content.split(\"\\n\"):    \n",
    "    if (\"Module\" in cont) and (cont not in content_dict.keys()):     \n",
    "        current_module = cont\n",
    "        content_dict[current_module] = []\n",
    "    else:\n",
    "        content_dict[current_module].append(cont)\n",
    "\n",
    "# Create contents\n",
    "new_contents = []\n",
    "for key, vals in content_dict.items():\n",
    "    module_n = key.split(\"_\")[0][-1]\n",
    "    module_link = \"#### [%s](%s/%s)\"%(key.replace(\"_\", \" \").replace( \" \", \": \", 1),\n",
    "                                 key,\n",
    "                                 key.replace(\"Module\", \"M\").replace(\"_Introduction\",\"Intro\")+\".md\")\n",
    "    new_contents.append(module_link)\n",
    "    \n",
    "    for val in vals:\n",
    "        lesson_link = \"- [%s](%s/%s)\"%(val.replace(\"_\", \" \").replace( \" \", \": \", 1),\n",
    "                                     key,\n",
    "                                     val.replace(\"Lesson\", \"M%sL\"%module_n).replace(\"_Introduction\",\"Intro\")+\".md\")\n",
    "        lesson_QA_link = \" [(Q&A)](%s/%s)\"%(key,\n",
    "                                            val.replace(\"Lesson\", \"M%sL\"%module_n).replace(\"_Introduction\",\"Intro\")+\"_Q&A.md\")\n",
    "        new_contents.append(lesson_link+lesson_QA_link)\n",
    "new_contents = \"\\n\".join(new_contents)\n",
    "\n",
    "new_readme = readme_content.split(\"## Notes\")[0] \\\n",
    "             + \"## Notes\\n\" + new_contents + \"\\n\\n\" \\\n",
    "             + \"## Resources\\n\" + readme_content.split(\"## Resources\")[1]\n",
    "\n",
    "# Wrtie new README.md\n",
    "with open(readme_file, \"w\") as fout:\n",
    "    fout.write(new_readme)\n"
   ]
  },
  {
   "cell_type": "code",
   "execution_count": null,
   "id": "b77aadfc",
   "metadata": {},
   "outputs": [],
   "source": []
  },
  {
   "cell_type": "code",
   "execution_count": null,
   "id": "e3772113",
   "metadata": {},
   "outputs": [],
   "source": []
  }
 ],
 "metadata": {
  "kernelspec": {
   "display_name": "Python 3 (ipykernel)",
   "language": "python",
   "name": "python3"
  },
  "language_info": {
   "codemirror_mode": {
    "name": "ipython",
    "version": 3
   },
   "file_extension": ".py",
   "mimetype": "text/x-python",
   "name": "python",
   "nbconvert_exporter": "python",
   "pygments_lexer": "ipython3",
   "version": "3.11.4"
  }
 },
 "nbformat": 4,
 "nbformat_minor": 5
}
