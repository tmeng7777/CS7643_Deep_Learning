{
 "cells": [
  {
   "cell_type": "code",
   "execution_count": 1,
   "id": "8e51a287",
   "metadata": {},
   "outputs": [],
   "source": [
    "import os\n",
    "import csv"
   ]
  },
  {
   "cell_type": "code",
   "execution_count": 2,
   "id": "651a2c46",
   "metadata": {},
   "outputs": [],
   "source": [
    "contents_file = \"../x_info/Contents.txt\"\n",
    "\n",
    "contents_dict = {}\n",
    "with open(contents_file, \"r\") as fin:\n",
    "    rfin = csv.reader(fin, delimiter=\",\")\n",
    "    key = \"\"\n",
    "    for row in rfin:\n",
    "        if \"Module\" in row[0]:\n",
    "            os.makedirs(\"../%s\"%row[0], exist_ok=True)\n",
    "            os.chdir(\"../%s\"%row[0])\n",
    "        else:\n",
    "            os.makedirs(row[0], exist_ok=True)"
   ]
  },
  {
   "cell_type": "code",
   "execution_count": 48,
   "id": "f5f49cf2",
   "metadata": {},
   "outputs": [
    {
     "data": {
      "text/plain": [
       "['[Module1: Introduction to Neural Networks](Module1_Introduction_to_Neural_Networks/M1Intro_to_Neural_Networks.md)',\n",
       " '[Lesson01_Linear_Classifiers_and_Gradient_Descent](Module1_Introduction_to_Neural_Networks/Lesson01_Linear_Classifiers_and_Gradient_Descent.md)',\n",
       " '[Lesson02_Neural_Networks](Module1_Introduction_to_Neural_Networks/Lesson02_Neural_Networks.md)',\n",
       " '[Lesson03_Optimization_of_Deep_Neural_Networks](Module1_Introduction_to_Neural_Networks/Lesson03_Optimization_of_Deep_Neural_Networks.md)',\n",
       " '[Lesson04_Data_Wrangling](Module1_Introduction_to_Neural_Networks/Lesson04_Data_Wrangling.md)',\n",
       " '[Module2: Convolutional Neural Networks](Module2_Convolutional_Neural_Networks/M2_Convolutional_Neural_Networks.md)',\n",
       " '[Lesson05_Convolution_and_Pooling_Layers](Module2_Convolutional_Neural_Networks/Lesson05_Convolution_and_Pooling_Layers.md)',\n",
       " '[Lesson06_Convolutional_Neural_Network_Architectures](Module2_Convolutional_Neural_Networks/Lesson06_Convolutional_Neural_Network_Architectures.md)',\n",
       " '[Lesson07_Visualization](Module2_Convolutional_Neural_Networks/Lesson07_Visualization.md)',\n",
       " '[Lesson08_Scalable_Training](Module2_Convolutional_Neural_Networks/Lesson08_Scalable_Training.md)',\n",
       " '[Lesson09_Advanced_Computer_Vision_Architectures](Module2_Convolutional_Neural_Networks/Lesson09_Advanced_Computer_Vision_Architectures.md)',\n",
       " '[Lesson10_Responsible_AI_and_Bias_and_Fairness](Module2_Convolutional_Neural_Networks/Lesson10_Responsible_AI_and_Bias_and_Fairness.md)',\n",
       " '[Module3: Structured Neural Representations](Module3_Structured_Neural_Representations/M3_Structured_Neural_Representations.md)',\n",
       " '[Lesson11_Introduction_to_Structured_Representations](Module3_Structured_Neural_Representations/Lesson11Intro_to_Structured_Representations.md)',\n",
       " '[Lesson12_Language_Models](Module3_Structured_Neural_Representations/Lesson12_Language_Models.md)',\n",
       " '[Lesson13_Embeddings](Module3_Structured_Neural_Representations/Lesson13_Embeddings.md)',\n",
       " '[Lesson14_Neural_Attention_Models](Module3_Structured_Neural_Representations/Lesson14_Neural_Attention_Models.md)',\n",
       " '[Lesson15_Neural_Machine_Translation](Module3_Structured_Neural_Representations/Lesson15_Neural_Machine_Translation.md)',\n",
       " '[Lesson16_Advanced_Topics_Translation_at_Facebook_and_Automated_Speech_Recognition_(ASR)](Module3_Structured_Neural_Representations/Lesson16_Advanced_Topics_Translation_at_Facebook_and_Automated_Speech_Recognition_(ASR).md)',\n",
       " '[Module4: Advanced Topics](Module4_Advanced_Topics/M4_Advanced_Topics.md)',\n",
       " '[Lesson17_Deep_Reinforcement_Learning](Module4_Advanced_Topics/Lesson17_Deep_Reinforcement_Learning.md)',\n",
       " '[Lesson18_Unsupervised_and_Semi-Supervised_Learning](Module4_Advanced_Topics/Lesson18_Unsupervised_and_Semi-Supervised_Learning.md)',\n",
       " '[Lesson19_Generative_Models](Module4_Advanced_Topics/Lesson19_Generative_Models.md)']"
      ]
     },
     "execution_count": 48,
     "metadata": {},
     "output_type": "execute_result"
    }
   ],
   "source": [
    "contents_file = \"../x_info/Contents.txt\"\n",
    "readme_file = \"../README.md\"\n",
    "\n",
    "# Read original README.md\n",
    "with open(readme_file, \"r\") as fin:\n",
    "    readme_content = fin.read()\n",
    "\n",
    "# Read input\n",
    "with open(contents_file, \"r\") as fin:\n",
    "    contents_content = fin.read()\n",
    "\n",
    "content_dict = {}\n",
    "current_module = \"\"\n",
    "for cont in contents_content.split(\"\\n\"):    \n",
    "    if (\"Module\" in cont) and (cont not in content_dict.keys()):     \n",
    "        current_module = cont\n",
    "        content_dict[current_module] = []\n",
    "    else:\n",
    "        content_dict[current_module].append(cont)\n",
    "\n",
    "new_contents = []\n",
    "for key, vals in content_dict.items():\n",
    "    module_link = \"[%s](%s/%s)\"%(key.replace(\"_\", \" \").replace( \" \", \": \", 1),\n",
    "                                 key,\n",
    "                                 key.replace(\"Module\", \"M\").replace(\"_Introduction\",\"Intro\")+\".md\")\n",
    "    new_contents.append(module_link)\n",
    "    \n",
    "    for val in vals:\n",
    "        lesson_link = \"[%s](%s/%s)\"%(val,\n",
    "                                     key,\n",
    "                                     val.replace(\"Module\", \"M\").replace(\"_Introduction\",\"Intro\")+\".md\")\n",
    "        new_contents.append(lesson_link)\n",
    "new_contents"
   ]
  },
  {
   "cell_type": "code",
   "execution_count": 34,
   "id": "d3c58bd2",
   "metadata": {},
   "outputs": [
    {
     "data": {
      "text/plain": [
       "{'Module1_Introduction_to_Neural_Networks': ['Lesson01_Linear_Classifiers_and_Gradient_Descent',\n",
       "  'Lesson02_Neural_Networks',\n",
       "  'Lesson03_Optimization_of_Deep_Neural_Networks',\n",
       "  'Lesson04_Data_Wrangling'],\n",
       " 'Module2_Convolutional_Neural_Networks': ['Lesson05_Convolution_and_Pooling_Layers',\n",
       "  'Lesson06_Convolutional_Neural_Network_Architectures',\n",
       "  'Lesson07_Visualization',\n",
       "  'Lesson08_Scalable_Training',\n",
       "  'Lesson09_Advanced_Computer_Vision_Architectures',\n",
       "  'Lesson10_Responsible_AI_and_Bias_and_Fairness'],\n",
       " 'Module3_Structured_Neural_Representations': ['Lesson11_Introduction_to_Structured_Representations',\n",
       "  'Lesson12_Language_Models',\n",
       "  'Lesson13_Embeddings',\n",
       "  'Lesson14_Neural_Attention_Models',\n",
       "  'Lesson15_Neural_Machine_Translation',\n",
       "  'Lesson16_Advanced_Topics_Translation_at_Facebook_and_Automated_Speech_Recognition_(ASR)'],\n",
       " 'Module4_Advanced_Topics': ['Lesson17_Deep_Reinforcement_Learning',\n",
       "  'Lesson18_Unsupervised_and_Semi-Supervised_Learning',\n",
       "  'Lesson19_Generative_Models']}"
      ]
     },
     "execution_count": 34,
     "metadata": {},
     "output_type": "execute_result"
    }
   ],
   "source": [
    "content_dict"
   ]
  },
  {
   "cell_type": "code",
   "execution_count": null,
   "id": "945761f4",
   "metadata": {},
   "outputs": [],
   "source": []
  },
  {
   "cell_type": "code",
   "execution_count": null,
   "id": "52a3909c",
   "metadata": {},
   "outputs": [],
   "source": []
  },
  {
   "cell_type": "code",
   "execution_count": null,
   "id": "13839a5c",
   "metadata": {},
   "outputs": [],
   "source": []
  }
 ],
 "metadata": {
  "kernelspec": {
   "display_name": "Python 3 (ipykernel)",
   "language": "python",
   "name": "python3"
  },
  "language_info": {
   "codemirror_mode": {
    "name": "ipython",
    "version": 3
   },
   "file_extension": ".py",
   "mimetype": "text/x-python",
   "name": "python",
   "nbconvert_exporter": "python",
   "pygments_lexer": "ipython3",
   "version": "3.11.4"
  }
 },
 "nbformat": 4,
 "nbformat_minor": 5
}
